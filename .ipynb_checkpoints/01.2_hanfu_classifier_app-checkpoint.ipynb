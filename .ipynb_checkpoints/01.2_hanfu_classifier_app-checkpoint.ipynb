{
 "cells": [
  {
   "cell_type": "markdown",
   "id": "becb1839-a9ea-4ae7-88a8-2ee4efc6a691",
   "metadata": {},
   "source": [
    "![Practicum AI Logo image](https://github.com/PracticumAI/practicumai.github.io/blob/main/images/logo/PracticumAI_logo_250x50.png?raw=true)\n",
    "***\n",
    "# *Practicum AI:* Hanfu Classifier App\n",
    "\n",
    "This is a continuation to [01.1_hanfu_classifier](01.1_hanfu_classifier.ipynb)."
   ]
  },
  {
   "cell_type": "markdown",
   "id": "83e6fd2c-464e-4eed-82a6-0e8506293b20",
   "metadata": {},
   "source": [
    "### Packages needed for this exercise"
   ]
  },
  {
   "cell_type": "code",
   "execution_count": 1,
   "id": "fd4a5df3-6941-4931-9171-1ad9d02bf4e2",
   "metadata": {},
   "outputs": [],
   "source": [
    "from fastai.vision.all import *\n",
    "from fastai.vision.widgets import *"
   ]
  },
  {
   "cell_type": "markdown",
   "id": "f189d52e-74c0-4882-aa16-fb42752c8ca9",
   "metadata": {},
   "source": [
    "### The Amazing Clothing Classifier!"
   ]
  },
  {
   "cell_type": "markdown",
   "id": "5999485b-aac7-44ce-9bfd-566d33e8bda8",
   "metadata": {},
   "source": [
    "<div style=\"padding: 10px;margin-bottom: 20px;border: thin solid #30335D; border-left-width: 10px;background-color: #fff\"><strong>Note:</strong> Make sure you have the file <strong>export.pkl</strong> before you run the code.</div>"
   ]
  },
  {
   "cell_type": "code",
   "execution_count": 2,
   "id": "cd3e473f-71fd-4100-b43b-c096b230ed56",
   "metadata": {},
   "outputs": [],
   "source": [
    "path = Path()\n",
    "learn_inf = load_learner(path/'export.pkl', cpu=True)\n",
    "btn_upload = widgets.FileUpload()\n",
    "out_pl = widgets.Output()\n",
    "lbl_pred = widgets.Label()\n",
    "btn_run = widgets.Button(description='Classify')"
   ]
  },
  {
   "cell_type": "code",
   "execution_count": 3,
   "id": "32661b50-d3b2-4f02-8aeb-2068a0789033",
   "metadata": {},
   "outputs": [],
   "source": [
    "def on_data_change(change):\n",
    "    lbl_pred.value = ''\n",
    "    img = PILImage.create(btn_upload.data[-1])\n",
    "    out_pl.clear_output()\n",
    "    with out_pl: display(img.to_thumb(128,128))\n",
    "    pred,pred_idx,probs = learn_inf.predict(img)\n",
    "    lbl_pred.value = f'Prediction: {pred}; Probability: {probs[pred_idx]:.04f}'"
   ]
  },
  {
   "cell_type": "code",
   "execution_count": 4,
   "id": "4e0aacee-eafe-453b-ad3b-854dbdcdff0a",
   "metadata": {},
   "outputs": [],
   "source": [
    "btn_upload.observe(on_data_change, names=['data'])"
   ]
  },
  {
   "cell_type": "code",
   "execution_count": 5,
   "id": "9522d99b-59bd-4cba-a9ff-ebff80af695e",
   "metadata": {},
   "outputs": [
    {
     "data": {
      "application/vnd.jupyter.widget-view+json": {
       "model_id": "0398caf95f644efa8b8778ce32f47577",
       "version_major": 2,
       "version_minor": 0
      },
      "text/plain": [
       "VBox(children=(Label(value='Select your clothes!'), FileUpload(value={}, description='Upload'), Button(descrip…"
      ]
     },
     "metadata": {},
     "output_type": "display_data"
    }
   ],
   "source": [
    "display(VBox([widgets.Label('Select your clothing!'), btn_upload,  btn_run, out_pl, lbl_pred]))"
   ]
  }
 ],
 "metadata": {
  "kernelspec": {
   "display_name": "fastai-2.6.3",
   "language": "python",
   "name": "fastai-2.6.3"
  },
  "language_info": {
   "codemirror_mode": {
    "name": "ipython",
    "version": 3
   },
   "file_extension": ".py",
   "mimetype": "text/x-python",
   "name": "python",
   "nbconvert_exporter": "python",
   "pygments_lexer": "ipython3",
   "version": "3.9.12"
  }
 },
 "nbformat": 4,
 "nbformat_minor": 5
}
